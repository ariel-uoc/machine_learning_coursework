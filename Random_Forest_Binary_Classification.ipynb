{
 "cells": [
  {
   "cell_type": "code",
   "execution_count": 2,
   "metadata": {},
   "outputs": [],
   "source": [
    "# Load necessary packages\n",
    "import numpy as np\n",
    "import pandas as pd\n",
    "import matplotlib as mpl\n",
    "\n",
    "# Visualization modules\n",
    "%matplotlib inline\n",
    "import matplotlib.pyplot as plt\n",
    "import seaborn as sns\n",
    "\n",
    "# Data-processing modules \n",
    "from sklearn.model_selection import train_test_split\n",
    "from sklearn.preprocessing import StandardScaler\n",
    "from sklearn.decomposition import PCA\n",
    "\n",
    "# Modeling and evaluation modules \n",
    "from sklearn.ensemble import RandomForestClassifier \n",
    "from sklearn.model_selection import GridSearchCV\n",
    "from sklearn import metrics\n",
    "\n",
    "import warnings\n",
    "warnings.filterwarnings(\"ignore\")\n",
    "\n",
    "# Module for saving model\n",
    "import pickle \n",
    "\n",
    "# Set seed for reproducibility \n",
    "SEED = 3"
   ]
  },
  {
   "cell_type": "markdown",
   "metadata": {},
   "source": [
    "## Part I. Data Processing"
   ]
  },
  {
   "cell_type": "markdown",
   "metadata": {},
   "source": [
    "a) Import the data: shape should be (30000,24)"
   ]
  },
  {
   "cell_type": "code",
   "execution_count": 4,
   "metadata": {},
   "outputs": [
    {
     "data": {
      "text/plain": [
       "(30000, 24)"
      ]
     },
     "execution_count": 4,
     "metadata": {},
     "output_type": "execute_result"
    }
   ],
   "source": [
    "# Load data\n",
    "data = pd.read_excel(\"default of credit card clients.xls\", index_col = 0)\n",
    "data.shape"
   ]
  },
  {
   "cell_type": "markdown",
   "metadata": {},
   "source": [
    "b) Remove any rows that have missing data."
   ]
  },
  {
   "cell_type": "code",
   "execution_count": 6,
   "metadata": {},
   "outputs": [
    {
     "name": "stdout",
     "output_type": "stream",
     "text": [
      "<class 'pandas.core.frame.DataFrame'>\n",
      "Int64Index: 30000 entries, 1 to 30000\n",
      "Data columns (total 24 columns):\n",
      "LIMIT_BAL                     30000 non-null int64\n",
      "SEX                           30000 non-null int64\n",
      "EDUCATION                     30000 non-null int64\n",
      "MARRIAGE                      30000 non-null int64\n",
      "AGE                           30000 non-null int64\n",
      "PAY_0                         30000 non-null int64\n",
      "PAY_2                         30000 non-null int64\n",
      "PAY_3                         30000 non-null int64\n",
      "PAY_4                         30000 non-null int64\n",
      "PAY_5                         30000 non-null int64\n",
      "PAY_6                         30000 non-null int64\n",
      "BILL_AMT1                     30000 non-null int64\n",
      "BILL_AMT2                     30000 non-null int64\n",
      "BILL_AMT3                     30000 non-null int64\n",
      "BILL_AMT4                     30000 non-null int64\n",
      "BILL_AMT5                     30000 non-null int64\n",
      "BILL_AMT6                     30000 non-null int64\n",
      "PAY_AMT1                      30000 non-null int64\n",
      "PAY_AMT2                      30000 non-null int64\n",
      "PAY_AMT3                      30000 non-null int64\n",
      "PAY_AMT4                      30000 non-null int64\n",
      "PAY_AMT5                      30000 non-null int64\n",
      "PAY_AMT6                      30000 non-null int64\n",
      "default payment next month    30000 non-null int64\n",
      "dtypes: int64(24)\n",
      "memory usage: 5.7 MB\n"
     ]
    }
   ],
   "source": [
    "data.info()"
   ]
  },
  {
   "cell_type": "code",
   "execution_count": 7,
   "metadata": {},
   "outputs": [],
   "source": [
    "# Drop rows will null values \n",
    "data.dropna(axis = 0,inplace = True)\n",
    "# Verify dimension \n",
    "data.shape"
   ]
  },
  {
   "cell_type": "markdown",
   "metadata": {},
   "source": [
    "c) The target / y variable is \"default payment next month\" column. Keep all predictors for the X df except for the target variable. "
   ]
  },
  {
   "cell_type": "code",
   "execution_count": 10,
   "metadata": {},
   "outputs": [
    {
     "name": "stdout",
     "output_type": "stream",
     "text": [
      "(30000, 23)\n",
      "(30000,)\n"
     ]
    }
   ],
   "source": [
    "# Create X and y objects \n",
    "y = data['default payment next month']\n",
    "X = data.drop(['default payment next month'], axis=1)\n",
    "print(X.shape)\n",
    "print(y.shape)"
   ]
  },
  {
   "cell_type": "markdown",
   "metadata": {},
   "source": [
    "d) Split data into train / test set using an 70/30 split. Recall that you should be generating an X_train, X_test, y_train, and y_test."
   ]
  },
  {
   "cell_type": "code",
   "execution_count": 11,
   "metadata": {},
   "outputs": [],
   "source": [
    "# Split into train and test data, randome_state = SEED for reproducibility\n",
    "X_train, X_test, y_train, y_test= train_test_split(X, y, test_size=0.3, random_state = SEED)"
   ]
  },
  {
   "cell_type": "markdown",
   "metadata": {},
   "source": [
    "## Part II. Random Forest Classifier - Base Model"
   ]
  },
  {
   "cell_type": "markdown",
   "metadata": {},
   "source": [
    "Start by creating a simple Random Forest only using default parameters.\n",
    "\n",
    "a) Use the RandomForestClassifier in sklearn. Fit your model on the training data & make sure to add a random_state (check documentation to confirm how to do this). "
   ]
  },
  {
   "cell_type": "code",
   "execution_count": 15,
   "metadata": {},
   "outputs": [
    {
     "data": {
      "text/plain": [
       "RandomForestClassifier(bootstrap=True, ccp_alpha=0.0, class_weight=None,\n",
       "                       criterion='gini', max_depth=None, max_features='auto',\n",
       "                       max_leaf_nodes=None, max_samples=None,\n",
       "                       min_impurity_decrease=0.0, min_impurity_split=None,\n",
       "                       min_samples_leaf=1, min_samples_split=2,\n",
       "                       min_weight_fraction_leaf=0.0, n_estimators=100,\n",
       "                       n_jobs=None, oob_score=False, random_state=3, verbose=0,\n",
       "                       warm_start=False)"
      ]
     },
     "execution_count": 15,
     "metadata": {},
     "output_type": "execute_result"
    }
   ],
   "source": [
    "# Create a Random Forest instance, set random_state = SEED for reproducibility\n",
    "rf_base = RandomForestClassifier(random_state = SEED)\n",
    "# Fit on X_train and y_train\n",
    "rf_base.fit(X_train, y_train)"
   ]
  },
  {
   "cell_type": "markdown",
   "metadata": {},
   "source": [
    "b) Use the fitted model to predict on test data. Use the .predict_proba() and the .predict() methods to get predicted probabilities as well as predicted classes."
   ]
  },
  {
   "cell_type": "code",
   "execution_count": 30,
   "metadata": {},
   "outputs": [
    {
     "name": "stdout",
     "output_type": "stream",
     "text": [
      "[0 1 0 0 0]\n",
      "[[0.87 0.13]\n",
      " [0.38 0.62]\n",
      " [0.74 0.26]\n",
      " [0.9  0.1 ]\n",
      " [0.62 0.38]]\n"
     ]
    }
   ],
   "source": [
    "# Predict test data \n",
    "y_pred_base = rf_base.predict(X_test)\n",
    "# Calculate predicted probabilities \n",
    "base_probs = rf_base.predict_proba(X_test)\n",
    "# Show predicitions and predicted probabilities on the first 5 instances \n",
    "print(y_pred_base[0:5])\n",
    "print(base_probs[0:5])"
   ]
  },
  {
   "cell_type": "markdown",
   "metadata": {},
   "source": [
    "c) Calculate the confusion matrix and classification report (both are in sklearn.metrics). These are the same tools from HW #3."
   ]
  },
  {
   "cell_type": "code",
   "execution_count": 20,
   "metadata": {},
   "outputs": [
    {
     "data": {
      "image/png": "[encoded data removed]",
      "text/plain": [
       "<Figure size 432x288 with 2 Axes>"
      ]
     },
     "metadata": {
      "needs_background": "light"
     },
     "output_type": "display_data"
    }
   ],
   "source": [
    "# Generate confusion matrix and classification report \n",
    "cnf_base_test = metrics.confusion_matrix(y_test, y_pred_base)\n",
    "clr_base_test = metrics.classification_report(y_test, y_pred_base)\n",
    "\n",
    "# Create Heatmap for Confusion Matrix \n",
    "sns.heatmap(cnf_base_test, annot=True, cmap=\"YlGnBu\" ,fmt='g')\n",
    "plt.tight_layout()\n",
    "plt.title('Confusion Matrix for Base Model on Test Data', y=1.1)\n",
    "plt.ylabel('Actual label')\n",
    "plt.xlabel('Predicted label')\n",
    "\n",
    "# Fix for mpl bug that cuts off top/bottom of seaborn visualization\n",
    "b, t = plt.ylim() # discover the values for bottom and top\n",
    "b += 0.5 # Add 0.5 to the bottom\n",
    "t -= 0.5 # Subtract 0.5 from the top\n",
    "plt.ylim(b, t) # update the ylim(bottom, top) values\n",
    "plt.show()"
   ]
  },
  {
   "cell_type": "code",
   "execution_count": 21,
   "metadata": {},
   "outputs": [
    {
     "name": "stdout",
     "output_type": "stream",
     "text": [
      "              precision    recall  f1-score   support\n",
      "\n",
      "           0       0.85      0.95      0.90      7087\n",
      "           1       0.66      0.37      0.47      1913\n",
      "\n",
      "    accuracy                           0.83      9000\n",
      "   macro avg       0.75      0.66      0.68      9000\n",
      "weighted avg       0.81      0.83      0.81      9000\n",
      "\n"
     ]
    }
   ],
   "source": [
    "# Print classification report\n",
    "print(clr_base_test)"
   ]
  },
  {
   "cell_type": "markdown",
   "metadata": {},
   "source": [
    "d) Calculate the roc_auc_score for this model. There are many ways to do this, but an example is to use the probabilities from step B and utilize the roc_auc_score from sklearn."
   ]
  },
  {
   "cell_type": "code",
   "execution_count": 68,
   "metadata": {},
   "outputs": [
    {
     "name": "stdout",
     "output_type": "stream",
     "text": [
      "0.7680806194034843\n"
     ]
    }
   ],
   "source": [
    "# Calculate roc_auc_score for class 1 \n",
    "roc_auc_base_test = metrics.roc_auc_score(y_test, base_probs[:,1])\n",
    "print(roc_auc_base_test)"
   ]
  },
  {
   "cell_type": "markdown",
   "metadata": {},
   "source": [
    "e) Calculate predictions for the training data & build the classification report & roc_auc_score. Are there signs of overfitting? Why or why not?"
   ]
  },
  {
   "cell_type": "code",
   "execution_count": 83,
   "metadata": {},
   "outputs": [
    {
     "data": {
      "image/png": "[encoded data removed]",
      "text/plain": [
       "<Figure size 432x288 with 2 Axes>"
      ]
     },
     "metadata": {
      "needs_background": "light"
     },
     "output_type": "display_data"
    }
   ],
   "source": [
    "# Predict train data \n",
    "y_pred_base_train = rf_base.predict(X_train)\n",
    "\n",
    "# Generate confusion matrix\n",
    "cnf_base_train = metrics.confusion_matrix(y_train, y_pred_base_train)\n",
    "\n",
    "# Create Heatmap for Confusion Matrix \n",
    "sns.heatmap(cnf_base_train, annot=True, cmap=\"YlGnBu\" ,fmt='g')\n",
    "plt.tight_layout()\n",
    "plt.title('Confusion Matrix for Base Model on Train Data', y=1.1)\n",
    "plt.ylabel('Actual label')\n",
    "plt.xlabel('Predicted label')\n",
    "\n",
    "# Fix for mpl bug that cuts off top/bottom of seaborn visualization\n",
    "b, t = plt.ylim() # discover the values for bottom and top\n",
    "b += 0.5 # Add 0.5 to the bottom\n",
    "t -= 0.5 # Subtract 0.5 from the top\n",
    "plt.ylim(b, t) # update the ylim(bottom, top) values\n",
    "plt.show()"
   ]
  },
  {
   "cell_type": "code",
   "execution_count": 34,
   "metadata": {},
   "outputs": [
    {
     "name": "stdout",
     "output_type": "stream",
     "text": [
      "              precision    recall  f1-score   support\n",
      "\n",
      "           0       1.00      1.00      1.00     16277\n",
      "           1       1.00      1.00      1.00      4723\n",
      "\n",
      "    accuracy                           1.00     21000\n",
      "   macro avg       1.00      1.00      1.00     21000\n",
      "weighted avg       1.00      1.00      1.00     21000\n",
      "\n"
     ]
    }
   ],
   "source": [
    "# Generate classification report \n",
    "clr_base_train = metrics.classification_report(y_train, y_pred_base_train)\n",
    "print(clr_base_train)"
   ]
  },
  {
   "cell_type": "code",
   "execution_count": 69,
   "metadata": {},
   "outputs": [
    {
     "name": "stdout",
     "output_type": "stream",
     "text": [
      "0.9999970146835035\n"
     ]
    }
   ],
   "source": [
    "# Calculate predicted probability \n",
    "base_train_probs = rf_base.predict_proba(X_train)\n",
    "# Calculate roc_auc_score for class 1 \n",
    "roc_auc_base_train = metrics.roc_auc_score(y_train, base_train_probs[:,1])\n",
    "print(roc_auc_base_train)"
   ]
  },
  {
   "cell_type": "markdown",
   "metadata": {},
   "source": [
    "There are signs of overfitting since the accuracy and roc_auc_score of the train data (both 1.00) are significantly higher than those of the test data (0.83 and 0.77). The classification reports of the train data suggest pretty much perfect classification, with 100% in precision, recall and f1-score. All these signs suggest that the model has learned the pattern from the train data extremely well, including the noise, and thus the pattern in the train data cannot be applied to the test data and fail to achieve the same level of accuracy when making predictions on the test data."
   ]
  },
  {
   "cell_type": "markdown",
   "metadata": {},
   "source": [
    "## Part III. Random Forest Classifier - Grid Search"
   ]
  },
  {
   "cell_type": "markdown",
   "metadata": {},
   "source": [
    "a) Use the RandomForestClassifier along with the GridSearchCV tool. Run the GridSearchCV using the following: \n",
    "\n",
    "* n_estimators: 50, 100, 500\n",
    "* max_features: 2, 4, sqrt\n",
    "* max_depth: 6, 8, 10, 12"
   ]
  },
  {
   "cell_type": "code",
   "execution_count": 40,
   "metadata": {},
   "outputs": [],
   "source": [
    "# Create a dictionary of parameters \n",
    "param_grid = {\n",
    "    'n_estimators': [50, 100, 500],\n",
    "    'max_features': [2, 4, \"sqrt\"],\n",
    "    'max_depth': [6, 8, 10, 12],\n",
    "    'min_samples_split':[3, 4, 5, 6, 7, 8],\n",
    "    'min_samples_leaf': [1, 2, 3],\n",
    "    'random_state':[SEED]}\n",
    "\n",
    "# Create a Random Forest model \n",
    "rf_obj = RandomForestClassifier()\n",
    "\n",
    "# Create grid search object with various combinations of parameters\n",
    "rf_Grid = GridSearchCV(rf_obj, param_grid, cv = 5, scoring = 'roc_auc',refit = True, n_jobs=-1, verbose = 5)"
   ]
  },
  {
   "cell_type": "code",
   "execution_count": 41,
   "metadata": {},
   "outputs": [
    {
     "name": "stdout",
     "output_type": "stream",
     "text": [
      "Fitting 5 folds for each of 648 candidates, totalling 3240 fits\n"
     ]
    },
    {
     "name": "stderr",
     "output_type": "stream",
     "text": [
      "[Parallel(n_jobs=-1)]: Using backend LokyBackend with 8 concurrent workers.\n",
      "[Parallel(n_jobs=-1)]: Done   2 tasks      | elapsed:    3.0s\n",
      "[Parallel(n_jobs=-1)]: Done  56 tasks      | elapsed:   24.3s\n",
      "[Parallel(n_jobs=-1)]: Done 146 tasks      | elapsed:  1.0min\n",
      "[Parallel(n_jobs=-1)]: Done 272 tasks      | elapsed:  1.9min\n",
      "[Parallel(n_jobs=-1)]: Done 434 tasks      | elapsed:  3.8min\n",
      "[Parallel(n_jobs=-1)]: Done 632 tasks      | elapsed:  6.0min\n",
      "[Parallel(n_jobs=-1)]: Done 866 tasks      | elapsed:  8.6min\n",
      "[Parallel(n_jobs=-1)]: Done 1136 tasks      | elapsed: 11.2min\n",
      "[Parallel(n_jobs=-1)]: Done 1442 tasks      | elapsed: 15.5min\n",
      "[Parallel(n_jobs=-1)]: Done 1784 tasks      | elapsed: 19.8min\n",
      "[Parallel(n_jobs=-1)]: Done 2162 tasks      | elapsed: 25.2min\n",
      "[Parallel(n_jobs=-1)]: Done 2576 tasks      | elapsed: 31.1min\n",
      "[Parallel(n_jobs=-1)]: Done 3026 tasks      | elapsed: 59.9min\n",
      "[Parallel(n_jobs=-1)]: Done 3240 out of 3240 | elapsed: 64.0min finished\n"
     ]
    },
    {
     "data": {
      "text/plain": [
       "GridSearchCV(cv=5, error_score=nan,\n",
       "             estimator=RandomForestClassifier(bootstrap=True, ccp_alpha=0.0,\n",
       "                                              class_weight=None,\n",
       "                                              criterion='gini', max_depth=None,\n",
       "                                              max_features='auto',\n",
       "                                              max_leaf_nodes=None,\n",
       "                                              max_samples=None,\n",
       "                                              min_impurity_decrease=0.0,\n",
       "                                              min_impurity_split=None,\n",
       "                                              min_samples_leaf=1,\n",
       "                                              min_samples_split=2,\n",
       "                                              min_weight_fraction_leaf=0.0,\n",
       "                                              n_estimators=100, n_jobs=None,\n",
       "                                              oob_score=False,\n",
       "                                              random_state=None, verbose=0,\n",
       "                                              warm_start=False),\n",
       "             iid='deprecated', n_jobs=-1,\n",
       "             param_grid={'max_depth': [6, 8, 10, 12],\n",
       "                         'max_features': [2, 4, 'sqrt'],\n",
       "                         'min_samples_leaf': [1, 2, 3],\n",
       "                         'min_samples_split': [3, 4, 5, 6, 7, 8],\n",
       "                         'n_estimators': [50, 100, 500], 'random_state': [3]},\n",
       "             pre_dispatch='2*n_jobs', refit=True, return_train_score=False,\n",
       "             scoring='roc_auc', verbose=5)"
      ]
     },
     "execution_count": 41,
     "metadata": {},
     "output_type": "execute_result"
    }
   ],
   "source": [
    "# Fit the grid search model\n",
    "rf_Grid.fit(X_train, y_train)"
   ]
  },
  {
   "cell_type": "markdown",
   "metadata": {},
   "source": [
    "b) Identify the best performing model"
   ]
  },
  {
   "cell_type": "code",
   "execution_count": 42,
   "metadata": {},
   "outputs": [],
   "source": [
    "# Identify the best model from my grid search \n",
    "best_model = rf_Grid.best_estimator_"
   ]
  },
  {
   "cell_type": "code",
   "execution_count": 43,
   "metadata": {},
   "outputs": [
    {
     "data": {
      "text/plain": [
       "RandomForestClassifier(bootstrap=True, ccp_alpha=0.0, class_weight=None,\n",
       "                       criterion='gini', max_depth=10, max_features=4,\n",
       "                       max_leaf_nodes=None, max_samples=None,\n",
       "                       min_impurity_decrease=0.0, min_impurity_split=None,\n",
       "                       min_samples_leaf=3, min_samples_split=7,\n",
       "                       min_weight_fraction_leaf=0.0, n_estimators=500,\n",
       "                       n_jobs=None, oob_score=False, random_state=3, verbose=0,\n",
       "                       warm_start=False)"
      ]
     },
     "execution_count": 43,
     "metadata": {},
     "output_type": "execute_result"
    }
   ],
   "source": [
    "best_model"
   ]
  },
  {
   "cell_type": "markdown",
   "metadata": {},
   "source": [
    "c) Use the best estimator model to predict on test data. Use the .predict_proba() and the .predict() methods to get predicted probabilities as well as predicted classes."
   ]
  },
  {
   "cell_type": "code",
   "execution_count": 47,
   "metadata": {},
   "outputs": [
    {
     "name": "stdout",
     "output_type": "stream",
     "text": [
      "[0 0 0 0 1]\n",
      "[[0.86965433 0.13034567]\n",
      " [0.63434687 0.36565313]\n",
      " [0.7927071  0.2072929 ]\n",
      " [0.9200581  0.0799419 ]\n",
      " [0.47460606 0.52539394]]\n"
     ]
    }
   ],
   "source": [
    "# Predict test data using best model\n",
    "y_pred_best = best_model.predict(X_test)\n",
    "# Calculate predicted probabilities \n",
    "best_probs = best_model.predict_proba(X_test)\n",
    "# Show predicitions and predicted probabilities on the first 5 instances \n",
    "print(y_pred_best[0:5])\n",
    "print(best_probs[0:5])"
   ]
  },
  {
   "cell_type": "markdown",
   "metadata": {},
   "source": [
    "d) Calculate the confusion matrix and classification report (both are in sklearn.metrics). "
   ]
  },
  {
   "cell_type": "code",
   "execution_count": 84,
   "metadata": {},
   "outputs": [
    {
     "data": {
      "image/png": "[encoded data removed]",
      "text/plain": [
       "<Figure size 432x288 with 2 Axes>"
      ]
     },
     "metadata": {
      "needs_background": "light"
     },
     "output_type": "display_data"
    }
   ],
   "source": [
    "# Generate confusion matrix and classification report for test data\n",
    "cnf_best_test = metrics.confusion_matrix(y_test, y_pred_best)\n",
    "clr_best_test = metrics.classification_report(y_test, y_pred_best)\n",
    "\n",
    "# Create Heatmap for Confusion Matrix \n",
    "sns.heatmap(cnf_best_test, annot=True, cmap=\"YlGnBu\" ,fmt='g')\n",
    "plt.tight_layout()\n",
    "plt.title('Confusion Matrix for Best Model on Test Data', y=1.1)\n",
    "plt.ylabel('Actual label')\n",
    "plt.xlabel('Predicted label')\n",
    "\n",
    "# Fix for mpl bug that cuts off top/bottom of seaborn visualization\n",
    "b, t = plt.ylim() # discover the values for bottom and top\n",
    "b += 0.5 # Add 0.5 to the bottom\n",
    "t -= 0.5 # Subtract 0.5 from the top\n",
    "plt.ylim(b, t) # update the ylim(bottom, top) values\n",
    "plt.show()"
   ]
  },
  {
   "cell_type": "code",
   "execution_count": 85,
   "metadata": {},
   "outputs": [
    {
     "name": "stdout",
     "output_type": "stream",
     "text": [
      "              precision    recall  f1-score   support\n",
      "\n",
      "           0       0.85      0.95      0.90      7087\n",
      "           1       0.68      0.36      0.47      1913\n",
      "\n",
      "    accuracy                           0.83      9000\n",
      "   macro avg       0.76      0.66      0.68      9000\n",
      "weighted avg       0.81      0.83      0.81      9000\n",
      "\n"
     ]
    }
   ],
   "source": [
    "# Print classification report \n",
    "print(clr_best_test)"
   ]
  },
  {
   "cell_type": "markdown",
   "metadata": {},
   "source": [
    "e) Calculate the roc_auc_score for this model."
   ]
  },
  {
   "cell_type": "code",
   "execution_count": 86,
   "metadata": {},
   "outputs": [
    {
     "name": "stdout",
     "output_type": "stream",
     "text": [
      "0.7879592011200353\n"
     ]
    }
   ],
   "source": [
    "# Calculate roc_auc_score for class 1 \n",
    "roc_auc_best_test = metrics.roc_auc_score(y_test, best_probs[:,1])\n",
    "print(roc_auc_best_test)"
   ]
  },
  {
   "cell_type": "markdown",
   "metadata": {},
   "source": [
    "f) Calculate predictions for the training data & build the confusion matrix, classification report & roc_auc_score. Are there signs of overfitting? Why or why not?\n"
   ]
  },
  {
   "cell_type": "code",
   "execution_count": 51,
   "metadata": {},
   "outputs": [
    {
     "data": {
      "image/png": "[encoded data removed]",
      "text/plain": [
       "<Figure size 432x288 with 2 Axes>"
      ]
     },
     "metadata": {
      "needs_background": "light"
     },
     "output_type": "display_data"
    }
   ],
   "source": [
    "# Predict train data \n",
    "y_pred_best_train = best_model.predict(X_train)\n",
    "\n",
    "# Generate confusion matrix\n",
    "cnf_best_train = metrics.confusion_matrix(y_train, y_pred_best_train)\n",
    "\n",
    "# Create Heatmap for Confusion Matrix \n",
    "sns.heatmap(cnf_best_train, annot=True, cmap=\"YlGnBu\" ,fmt='g')\n",
    "plt.tight_layout()\n",
    "plt.title('Confusion Matrix for Best Model on Train Data', y=1.1)\n",
    "plt.ylabel('Actual label')\n",
    "plt.xlabel('Predicted label')\n",
    "\n",
    "# Fix for mpl bug that cuts off top/bottom of seaborn visualization\n",
    "b, t = plt.ylim() # discover the values for bottom and top\n",
    "b += 0.5 # Add 0.5 to the bottom\n",
    "t -= 0.5 # Subtract 0.5 from the top\n",
    "plt.ylim(b, t) # update the ylim(bottom, top) values\n",
    "plt.show()"
   ]
  },
  {
   "cell_type": "code",
   "execution_count": 87,
   "metadata": {},
   "outputs": [
    {
     "name": "stdout",
     "output_type": "stream",
     "text": [
      "              precision    recall  f1-score   support\n",
      "\n",
      "           0       0.85      0.97      0.91     16277\n",
      "           1       0.82      0.43      0.56      4723\n",
      "\n",
      "    accuracy                           0.85     21000\n",
      "   macro avg       0.84      0.70      0.74     21000\n",
      "weighted avg       0.85      0.85      0.83     21000\n",
      "\n"
     ]
    }
   ],
   "source": [
    "# Generate classification report \n",
    "clr_best_train = metrics.classification_report(y_train, y_pred_best_train)\n",
    "print(clr_best_train)"
   ]
  },
  {
   "cell_type": "code",
   "execution_count": 89,
   "metadata": {},
   "outputs": [
    {
     "name": "stdout",
     "output_type": "stream",
     "text": [
      "ROC_AUC_Score: 0.8548550371284267\n"
     ]
    }
   ],
   "source": [
    "# Calculate predicted probability \n",
    "best_train_probs = best_model.predict_proba(X_train)\n",
    "\n",
    "# Calculate roc_auc_score for class 1 \n",
    "roc_auc_best_train = metrics.roc_auc_score(y_train, best_train_probs[:,1])\n",
    "print(\"ROC_AUC_Score:\", roc_auc_best_train)"
   ]
  },
  {
   "cell_type": "markdown",
   "metadata": {},
   "source": [
    "There are signs of overfitting since the roc_auc_score of the train data (0.855) is higher than that of the test data (0.788). The precision, recall and f1 scores for class 1 in the train data are also consistently higher than those in the test data. All these signs suggest that the model has learned too much variance from the train data, including some of the noise, and thus the pattern is not entirely applicable to the test data and fail to achieve the same level of accuracy when making predictions on the test data."
   ]
  },
  {
   "cell_type": "markdown",
   "metadata": {},
   "source": [
    "## Part IV. Feature Importances"
   ]
  },
  {
   "cell_type": "markdown",
   "metadata": {},
   "source": [
    "a) What are the top 5 features for this model?"
   ]
  },
  {
   "cell_type": "code",
   "execution_count": 53,
   "metadata": {},
   "outputs": [
    {
     "data": {
      "text/html": [
       "<div>\n",
       "<style scoped>\n",
       "    .dataframe tbody tr th:only-of-type {\n",
       "        vertical-align: middle;\n",
       "    }\n",
       "\n",
       "    .dataframe tbody tr th {\n",
       "        vertical-align: top;\n",
       "    }\n",
       "\n",
       "    .dataframe thead th {\n",
       "        text-align: right;\n",
       "    }\n",
       "</style>\n",
       "<table border=\"1\" class=\"dataframe\">\n",
       "  <thead>\n",
       "    <tr style=\"text-align: right;\">\n",
       "      <th></th>\n",
       "      <th>importance</th>\n",
       "    </tr>\n",
       "    <tr>\n",
       "      <th>feature</th>\n",
       "      <th></th>\n",
       "    </tr>\n",
       "  </thead>\n",
       "  <tbody>\n",
       "    <tr>\n",
       "      <td>PAY_0</td>\n",
       "      <td>0.248</td>\n",
       "    </tr>\n",
       "    <tr>\n",
       "      <td>PAY_2</td>\n",
       "      <td>0.115</td>\n",
       "    </tr>\n",
       "    <tr>\n",
       "      <td>PAY_3</td>\n",
       "      <td>0.066</td>\n",
       "    </tr>\n",
       "    <tr>\n",
       "      <td>PAY_4</td>\n",
       "      <td>0.048</td>\n",
       "    </tr>\n",
       "    <tr>\n",
       "      <td>PAY_5</td>\n",
       "      <td>0.043</td>\n",
       "    </tr>\n",
       "  </tbody>\n",
       "</table>\n",
       "</div>"
      ],
      "text/plain": [
       "         importance\n",
       "feature            \n",
       "PAY_0         0.248\n",
       "PAY_2         0.115\n",
       "PAY_3         0.066\n",
       "PAY_4         0.048\n",
       "PAY_5         0.043"
      ]
     },
     "execution_count": 53,
     "metadata": {},
     "output_type": "execute_result"
    }
   ],
   "source": [
    "# Understand feature importace \n",
    "importances = pd.DataFrame({'feature':X_train.columns,'importance':np.round(best_model.feature_importances_,3)})\n",
    "importances = importances.sort_values('importance',ascending=False).set_index('feature')\n",
    "importances.head(5)"
   ]
  },
  {
   "cell_type": "markdown",
   "metadata": {},
   "source": [
    "## Part V. Conceptual Questions"
   ]
  },
  {
   "cell_type": "markdown",
   "metadata": {},
   "source": [
    "a) What are the best parameters from the Grid Search in Question # 3? Does the Model from #3 outperform Model #2? Explain why."
   ]
  },
  {
   "cell_type": "markdown",
   "metadata": {},
   "source": [
    "Here are the best paramaters from the Grid Search: "
   ]
  },
  {
   "cell_type": "code",
   "execution_count": 57,
   "metadata": {},
   "outputs": [
    {
     "data": {
      "text/plain": [
       "{'max_depth': 10,\n",
       " 'max_features': 4,\n",
       " 'min_samples_leaf': 3,\n",
       " 'min_samples_split': 7,\n",
       " 'n_estimators': 500,\n",
       " 'random_state': 3}"
      ]
     },
     "execution_count": 57,
     "metadata": {},
     "output_type": "execute_result"
    }
   ],
   "source": [
    "rf_Grid.best_params_"
   ]
  },
  {
   "cell_type": "code",
   "execution_count": 76,
   "metadata": {},
   "outputs": [
    {
     "name": "stdout",
     "output_type": "stream",
     "text": [
      "Classification Report of Base Model on Test Data:\n",
      "\n",
      "              precision    recall  f1-score   support\n",
      "\n",
      "           0       0.85      0.95      0.90      7087\n",
      "           1       0.66      0.37      0.47      1913\n",
      "\n",
      "    accuracy                           0.83      9000\n",
      "   macro avg       0.75      0.66      0.68      9000\n",
      "weighted avg       0.81      0.83      0.81      9000\n",
      "\n",
      "ROC_AUC_Score on Test Data: 0.7680806194034843\n"
     ]
    }
   ],
   "source": [
    "# Show classification report and roc_auc_score of base model (model 2)\n",
    "print(\"Classification Report of Base Model on Test Data:\\n\")\n",
    "print(clr_base_test)\n",
    "print(\"ROC_AUC_Score on Test Data:\", roc_auc_base_test)"
   ]
  },
  {
   "cell_type": "code",
   "execution_count": 77,
   "metadata": {},
   "outputs": [
    {
     "name": "stdout",
     "output_type": "stream",
     "text": [
      "Classification Report of Best Model on Test Data:\n",
      "\n",
      "              precision    recall  f1-score   support\n",
      "\n",
      "           0       0.85      0.95      0.90      7087\n",
      "           1       0.68      0.36      0.47      1913\n",
      "\n",
      "    accuracy                           0.83      9000\n",
      "   macro avg       0.76      0.66      0.68      9000\n",
      "weighted avg       0.81      0.83      0.81      9000\n",
      "\n",
      "ROC_AUC_Score on Test Data: 0.7879592011200353\n"
     ]
    }
   ],
   "source": [
    "# Show classification report and roc_auc_score of best-performing model (model 3)\n",
    "print(\"Classification Report of Best Model on Test Data:\\n\")\n",
    "print(clr_best_test)\n",
    "print(\"ROC_AUC_Score on Test Data:\", roc_auc_best_test)"
   ]
  },
  {
   "cell_type": "markdown",
   "metadata": {},
   "source": [
    "Model 3 outperforms model 2, as suggested by improvements in certain test metrics, including the slightly increased roc_auc_score and precision on class 1 of model 3. Additionally, the difference between the test and train roc_auc_score is smaller in model 3 than model 2, suggesting that model 3 suffers from less overfitting than model 2 and can generalize better on test data."
   ]
  },
  {
   "cell_type": "markdown",
   "metadata": {},
   "source": [
    "b) Overfitting is always a concern in ML problems. Does Model #3 overfit data more or less than Model #2? Explain why you think this is the case. "
   ]
  },
  {
   "cell_type": "code",
   "execution_count": 79,
   "metadata": {},
   "outputs": [
    {
     "data": {
      "text/html": [
       "<div>\n",
       "<style scoped>\n",
       "    .dataframe tbody tr th:only-of-type {\n",
       "        vertical-align: middle;\n",
       "    }\n",
       "\n",
       "    .dataframe tbody tr th {\n",
       "        vertical-align: top;\n",
       "    }\n",
       "\n",
       "    .dataframe thead th {\n",
       "        text-align: right;\n",
       "    }\n",
       "</style>\n",
       "<table border=\"1\" class=\"dataframe\">\n",
       "  <thead>\n",
       "    <tr style=\"text-align: right;\">\n",
       "      <th></th>\n",
       "      <th>Model Number</th>\n",
       "      <th>Test ROC_AUC</th>\n",
       "      <th>Train ROC_AUC</th>\n",
       "    </tr>\n",
       "  </thead>\n",
       "  <tbody>\n",
       "    <tr>\n",
       "      <td>0</td>\n",
       "      <td>2</td>\n",
       "      <td>0.768081</td>\n",
       "      <td>0.999997</td>\n",
       "    </tr>\n",
       "    <tr>\n",
       "      <td>1</td>\n",
       "      <td>3</td>\n",
       "      <td>0.787959</td>\n",
       "      <td>0.854855</td>\n",
       "    </tr>\n",
       "  </tbody>\n",
       "</table>\n",
       "</div>"
      ],
      "text/plain": [
       "   Model Number  Test ROC_AUC  Train ROC_AUC\n",
       "0             2      0.768081       0.999997\n",
       "1             3      0.787959       0.854855"
      ]
     },
     "execution_count": 79,
     "metadata": {},
     "output_type": "execute_result"
    }
   ],
   "source": [
    "# Table with the roc—auc scores for easy comparison\n",
    "compare = pd.DataFrame({\n",
    "    'Model Number': [2,3],\n",
    "    \n",
    "    'Test ROC_AUC': [roc_auc_base_test, roc_auc_best_test],\n",
    "    \n",
    "    'Train ROC_AUC': [roc_auc_base_train, roc_auc_best_train]\n",
    "    })\n",
    "\n",
    "compare"
   ]
  },
  {
   "cell_type": "code",
   "execution_count": 66,
   "metadata": {},
   "outputs": [
    {
     "data": {
      "text/plain": [
       "<bound method BaseEstimator.get_params of RandomForestClassifier(bootstrap=True, ccp_alpha=0.0, class_weight=None,\n",
       "                       criterion='gini', max_depth=None, max_features='auto',\n",
       "                       max_leaf_nodes=None, max_samples=None,\n",
       "                       min_impurity_decrease=0.0, min_impurity_split=None,\n",
       "                       min_samples_leaf=1, min_samples_split=2,\n",
       "                       min_weight_fraction_leaf=0.0, n_estimators=100,\n",
       "                       n_jobs=None, oob_score=False, random_state=3, verbose=0,\n",
       "                       warm_start=False)>"
      ]
     },
     "execution_count": 66,
     "metadata": {},
     "output_type": "execute_result"
    }
   ],
   "source": [
    "# Get parameters used in the base model (model 2)\n",
    "rf_base.get_params"
   ]
  },
  {
   "cell_type": "markdown",
   "metadata": {},
   "source": [
    "While also suffering from overfitting, the degress of severity is lower in model 3 compared to model 2 due to the smaller difference between test and train roc_auc score. Model 2 has no limitation on max_depth. The min_samples_leaf is 1, meaning that the tree will stop splitting when the minimum number of samples at a leaf node reaches 1. The min_samples_split = 2 means that only 2 samples are required to split an internal node. Therefore, model 2 builds much deeper trees than in model 3 and split until all nodes are completely pure and contain only 1 sample. Such flexibility leads to a highly complex model 2, which suffers from severe overfitting. In addition, model 2 has less n_estimators (100), which means it builds 100 decision trees as opposed to 500 build in model 3. Since model 3 builds more uncorrelated trees, it can average out the individual errors better and further reduce variance. "
   ]
  },
  {
   "cell_type": "markdown",
   "metadata": {},
   "source": [
    "Hyperparameter tuning helps reduce overfitting. In model 3 we applied grid search to perform exhaustive search over different combinations of the specified hyperparamaters. And k-fold cross validation helped us pick the hyperparameter combination that results in the highest roc_auc_score. However, because we have specified the paramater grid, the algorithm's performance is still limited by the hyperparameter values we proposed, thus grid search cannot guarantee to completely remove the overfitting issue. "
   ]
  },
  {
   "cell_type": "markdown",
   "metadata": {},
   "source": [
    "c) The lecture notes describe the Gini Index which is the default criterion used for splitting in sklearn's version of RandomForestClassifier. How does the Gini Index work? (i.e. How is it used to build a top-performing model?). "
   ]
  },
  {
   "cell_type": "markdown",
   "metadata": {},
   "source": [
    "<img src=\"gini_index.jpg\" style=\"width:350px;height:250px/\">"
   ]
  },
  {
   "cell_type": "markdown",
   "metadata": {},
   "source": [
    "The Gini Index is the measure of impurity in a set of data. In the case of Random Forest Classification, the Gini Impurity is measured at each node level in each decision tree that makes up the random forest. The Gini Impurity of a node is the probability that a randomly chosen sample in a node would be incorrectly labeled if it was labeled by the distribution of samples in the node. Using the example decision tree shown above, we can calculate that the Gini Index of the root node is 1-((50/150)^2+(50/150)^2+(50/150)^2)= 0.667. "
   ]
  },
  {
   "cell_type": "markdown",
   "metadata": {},
   "source": [
    "At each node, the decision tree searches through the features for the value to split on that results in the greatest reduction in Gini Impurity. This splitting process is performed recursively until the maximum depth limit is reached, or until each node only contains samples from one class (aka the node is pure). A pure node would have gini index of 0 as no datapoint from that node is be misclassified. Gini Index helps select the features that would make the children nodes purer and improve model performance. "
   ]
  },
  {
   "cell_type": "markdown",
   "metadata": {},
   "source": [
    "d) Describe how Random Forest is different from bagging & why this difference can yield improved results."
   ]
  },
  {
   "cell_type": "markdown",
   "metadata": {},
   "source": [
    "Random forest is an ensemble learning algorithm that combines multiple decision trees, while bagging is an ensemble model that can combine multiple different models to generate the final predictive model. Since we're considering random forest, its parallel in bagging would be bagged decision trees. Both models are very popular as they can reduce variance in prediction. "
   ]
  },
  {
   "cell_type": "markdown",
   "metadata": {},
   "source": [
    "The fundamental difference between bagging trees and random forest is the level of randomness involved. While both algorithms create boostrapped samples by drawing random samples with replacement from the training data, random forest introduces another type of randomness by splitting on random subset of features. That is, only a subset of features are selected at random out of the total and the best split feature from the subset is used to split each node in a tree, unlike in bagging where all features are considered for splitting a node. Assume we have a dataset with M features and we create bootstrapped samples by uniformly drawing random samples with replacement. Now we want to train our classifiers on the bootstrapped samples. The random forest algorithm will split on m (which is less than M) features at each node, as opposed to bagging which would split on all M features. A graphical representation is shown below:"
   ]
  },
  {
   "cell_type": "markdown",
   "metadata": {},
   "source": [
    "<img src = \"d.jpg\" style=\"width:500px;height:250px/\">"
   ]
  },
  {
   "cell_type": "markdown",
   "metadata": {},
   "source": [
    "Due to this additional type of randomness (i.e. the random feature selection), the trees in random forest are split on very different dimensions and are more independent of each other compared to bagging. So when aggregating to obtain the final model, random forest would yield predictions with lower variance, leading to better predictive performance."
   ]
  },
  {
   "cell_type": "markdown",
   "metadata": {},
   "source": [
    "e) Describe the importance of the max_depth parameter in Random Forest. Do not just provide a definition, rather think through how bias-variance tradeoff might be impacted by the max_depth parameter."
   ]
  },
  {
   "cell_type": "markdown",
   "metadata": {},
   "source": [
    "The max_depth parameter represents how many splits deep you want each decision tree to go. The deeper the tree, the more splits it has and the more information about the train data is captured. If max_depth = None, then the nodes are expanded until all leaves are pure or until all leaves contain less samples than the minimum number of samples required to split an internal node (i.e. min_samples_split). \n",
    "\n",
    "If we don't limit the maximum depth of trees, each tree would have unlimited flexibility, meaning that it can keep growing until it has exactly one leaf node for every single observation, perfectly classifying all training data. While this reduces bias, the trees would also be learning from the noise in the data, which leads the problem of overfitting and our prediction would suffer from high variance. Therefore, it is recommended that we prune the trees (i.e. limit max_depth) in order to find the optimal balance between bias and variance and obtain the best-performing model."
   ]
  },
  {
   "cell_type": "markdown",
   "metadata": {},
   "source": [
    "f) In this homework we used k-fold cross-validation while determining the optimal hyperparameters for our Random Forest model. 1) Describe how k-fold cross-validation works. 2) What benefit do we gain by using k-fold cross-validation when tuning our Random Forest model versus only using the train-test split approach?"
   ]
  },
  {
   "cell_type": "markdown",
   "metadata": {},
   "source": [
    "K-Fold Cross Validation:\n",
    "\n",
    "When we build a machine learning model, we make sure to split our data into a train and a test set. In k-fold cross validation, the training set is randomly split into k number of subsets, or folds. We then iteratively fit the model k times, each time training the data on k-1 folds and evaluating on the k-th fold (called the validation data). As an example, consider fitting a model with K = 5 (graphical representation shown below). The first iteration we train on the first 4 folds and evaluate on the 5th. The second time we train on the 1st, 2nd, 3rd, and 5th fold and evaluate on the 4th. We repeat this procedure 3 more times, each time evaluating on a different fold. At the very end of training, we average the performance on each fold to come up with final validation metrics for the model. "
   ]
  },
  {
   "cell_type": "markdown",
   "metadata": {},
   "source": [
    "<img src = \"kfolds.jpg\" style=\"width:400px;height:250px/\">"
   ]
  },
  {
   "cell_type": "markdown",
   "metadata": {},
   "source": [
    "Benefits of K-Fold Cross Validation: \n",
    "\n",
    "K-fold cross validation enables better model evaluation. Compared to the train-test split approach where the model is tested only on the one test set, k-fold cross validation iterates on the training and testing process k times. This ensures the model would experience changes in the distribution of the train and validation sets, and thus reduces the error caused by variability between the training and testing set. As a result, k-fold cross validation provides a better estimation of the model's performance on unseen data. "
   ]
  }
 ],
 "metadata": {
  "kernelspec": {
   "display_name": "Python 3",
   "language": "python",
   "name": "python3"
  },
  "language_info": {
   "codemirror_mode": {
    "name": "ipython",
    "version": 3
   },
   "file_extension": ".py",
   "mimetype": "text/x-python",
   "name": "python",
   "nbconvert_exporter": "python",
   "pygments_lexer": "ipython3",
   "version": "3.7.3"
  }
 },
 "nbformat": 4,
 "nbformat_minor": 2
}
