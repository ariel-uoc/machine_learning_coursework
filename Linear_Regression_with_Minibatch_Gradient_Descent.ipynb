{
 "cells": [
  {
   "cell_type": "code",
   "execution_count": 1,
   "metadata": {},
   "outputs": [],
   "source": [
    "%matplotlib inline\n",
    "\n",
    "import numpy as np\n",
    "import pandas as pd\n",
    "import matplotlib as mpl\n",
    "import matplotlib.pyplot as plt\n",
    "import sklearn.linear_model\n",
    "import seaborn as sns"
   ]
  },
  {
   "cell_type": "code",
   "execution_count": 2,
   "metadata": {},
   "outputs": [
    {
     "name": "stderr",
     "output_type": "stream",
     "text": [
      "/Users/arielsmac/anaconda3/lib/python3.7/site-packages/IPython/core/interactiveshell.py:3058: DtypeWarning: Columns (47,73) have mixed types. Specify dtype option on import or set low_memory=False.\n",
      "  interactivity=interactivity, compiler=compiler, result=result)\n"
     ]
    }
   ],
   "source": [
    "# Load data\n",
    "data = pd.read_csv(\"bottle.csv\")"
   ]
  },
  {
   "cell_type": "markdown",
   "metadata": {},
   "source": [
    "## Part A"
   ]
  },
  {
   "cell_type": "code",
   "execution_count": 3,
   "metadata": {},
   "outputs": [],
   "source": [
    "# 1) Keep 5 features \n",
    "col_lst = ['T_degC','Salnty','STheta','O2ml_L','Depthm']\n",
    "df = data[col_lst]"
   ]
  },
  {
   "cell_type": "code",
   "execution_count": 4,
   "metadata": {},
   "outputs": [
    {
     "data": {
      "text/plain": [
       "(661268, 5)"
      ]
     },
     "execution_count": 4,
     "metadata": {},
     "output_type": "execute_result"
    }
   ],
   "source": [
    "# 2) Remove NaN / NA values from dataset\n",
    "df = df.dropna()\n",
    "df.shape"
   ]
  },
  {
   "cell_type": "code",
   "execution_count": 5,
   "metadata": {},
   "outputs": [
    {
     "data": {
      "image/png": "[encoded data removed]",
      "text/plain": [
       "<Figure size 432x288 with 1 Axes>"
      ]
     },
     "metadata": {
      "needs_background": "light"
     },
     "output_type": "display_data"
    },
    {
     "data": {
      "text/plain": [
       "(661268, 5)"
      ]
     },
     "execution_count": 5,
     "metadata": {},
     "output_type": "execute_result"
    }
   ],
   "source": [
    "# 3) Remove any STheta outliers\n",
    "plt.scatter(df['STheta'],df['T_degC'])\n",
    "plt.xlabel('Density of water')\n",
    "plt.ylabel('Water temperature')\n",
    "plt.show()\n",
    "df.drop(df[df['STheta'] >= 200].index, inplace = True)\n",
    "df.shape"
   ]
  },
  {
   "cell_type": "markdown",
   "metadata": {},
   "source": [
    "## Part B"
   ]
  },
  {
   "cell_type": "code",
   "execution_count": 6,
   "metadata": {},
   "outputs": [
    {
     "name": "stdout",
     "output_type": "stream",
     "text": [
      "(661268, 4)\n",
      "(661268, 1)\n"
     ]
    }
   ],
   "source": [
    "# 1) Create X & y objects\n",
    "y = np.asarray(df['T_degC'])\n",
    "y = np.reshape(y,(len(y),1))\n",
    "X = df.drop(['T_degC'], axis=1)\n",
    "print(X.shape)\n",
    "print(y.shape)"
   ]
  },
  {
   "cell_type": "code",
   "execution_count": 7,
   "metadata": {},
   "outputs": [],
   "source": [
    "# 2) Generate X_train, X_test, y_train & y_test. Use 80% for train & 20% for test.\n",
    "from sklearn.model_selection import train_test_split\n",
    "\n",
    "# Set seed for reproducibility \n",
    "SEED = 3\n",
    "\n",
    "# Split into train and test data\n",
    "X_train, X_test, y_train, y_test= train_test_split(X, y, test_size=0.2, random_state = SEED)"
   ]
  },
  {
   "cell_type": "code",
   "execution_count": 8,
   "metadata": {},
   "outputs": [],
   "source": [
    "# 3) Scale all features to improve convergence in Gradient Descent.\n",
    "from sklearn.preprocessing import StandardScaler\n",
    "stscaler = StandardScaler().fit(X_train)\n",
    "X_train_scaled = stscaler.transform(X_train)\n",
    "X_test_scaled = stscaler.transform(X_test)"
   ]
  },
  {
   "cell_type": "markdown",
   "metadata": {},
   "source": [
    "## Part C"
   ]
  },
  {
   "cell_type": "code",
   "execution_count": 9,
   "metadata": {},
   "outputs": [
    {
     "data": {
      "text/plain": [
       "LinearRegression(copy_X=True, fit_intercept=True, n_jobs=None, normalize=False)"
      ]
     },
     "execution_count": 9,
     "metadata": {},
     "output_type": "execute_result"
    }
   ],
   "source": [
    "# 1) Create an instance of the LinearRegression class called \"lin_reg\". Fit lin_reg using X_train_scaled & y_train.\n",
    "from sklearn.linear_model import LinearRegression\n",
    "lin_reg = LinearRegression()\n",
    "lin_reg.fit(X_train_scaled, y_train)"
   ]
  },
  {
   "cell_type": "code",
   "execution_count": 10,
   "metadata": {},
   "outputs": [
    {
     "data": {
      "text/plain": [
       "(array([10.9165682]),\n",
       " array([[ 1.63060628, -4.63321234,  0.30221399, -0.47497756]]))"
      ]
     },
     "execution_count": 10,
     "metadata": {},
     "output_type": "execute_result"
    }
   ],
   "source": [
    "# 2) Print out the coefficients (including the intercept)\n",
    "lin_reg.intercept_, lin_reg.coef_"
   ]
  },
  {
   "cell_type": "code",
   "execution_count": 11,
   "metadata": {},
   "outputs": [
    {
     "data": {
      "text/plain": [
       "array([[ 8.90146724],\n",
       "       [18.51002513],\n",
       "       [18.14818182],\n",
       "       ...,\n",
       "       [-0.20118134],\n",
       "       [ 5.5900904 ],\n",
       "       [12.65795846]])"
      ]
     },
     "execution_count": 11,
     "metadata": {},
     "output_type": "execute_result"
    }
   ],
   "source": [
    "# 3) Predict T_degC for the test data using lin_reg. Make sure to use X_test_scaled!\n",
    "y_pred_sklearn = lin_reg.predict(X_test_scaled)\n",
    "y_pred_sklearn"
   ]
  },
  {
   "cell_type": "code",
   "execution_count": 12,
   "metadata": {},
   "outputs": [
    {
     "name": "stdout",
     "output_type": "stream",
     "text": [
      "0.11066262338144886\n",
      "0.993818119771476\n",
      "0.9938181771783683\n"
     ]
    }
   ],
   "source": [
    "# 4) Calculate the following for the test data: mean squared error, r-squared, explained variance\n",
    "from sklearn import metrics \n",
    "MSE_sklearn = metrics.mean_squared_error(y_test, y_pred_sklearn)\n",
    "r2_sklearn = metrics.r2_score(y_test, y_pred_sklearn)\n",
    "explained_var_sklearn = metrics.explained_variance_score(y_test, y_pred_sklearn)\n",
    "print(MSE_sklearn)\n",
    "print(r2_sklearn)\n",
    "print(explained_var_sklearn)"
   ]
  },
  {
   "cell_type": "code",
   "execution_count": 13,
   "metadata": {},
   "outputs": [
    {
     "data": {
      "image/png": "[encoded data removed]",
      "text/plain": [
       "<Figure size 1152x576 with 1 Axes>"
      ]
     },
     "metadata": {
      "needs_background": "light"
     },
     "output_type": "display_data"
    }
   ],
   "source": [
    "# 5) Create a scatterplot that shows actual versus predicted values for the T_degC\n",
    "plt.figure(figsize=(16,8))\n",
    "plt.scatter(x=y_test, y=y_pred_sklearn, alpha = 0.5)\n",
    "plt.title('Actual vs Predicted Water Temperature (Linear Regression)')\n",
    "plt.xlabel('Actual Water Temperature')\n",
    "plt.ylabel('Predicted Water Temperature')\n",
    "plt.axis('square')\n",
    "plt.show()"
   ]
  },
  {
   "cell_type": "markdown",
   "metadata": {},
   "source": [
    "## Part D"
   ]
  },
  {
   "cell_type": "code",
   "execution_count": 14,
   "metadata": {},
   "outputs": [],
   "source": [
    "# 1) Add a column of 1s to X_train_scaled and X_test_scaled\n",
    "X_b = np.c_[np.ones((len(X_train_scaled), 1)), X_train_scaled]  \n",
    "X_b_new = np.c_[np.ones((len(X_test_scaled), 1)), X_test_scaled]  "
   ]
  },
  {
   "cell_type": "code",
   "execution_count": 15,
   "metadata": {},
   "outputs": [],
   "source": [
    "# Perform the following steps for mini-batch sizes of: 50, 250, & 2000.\n",
    "# 2) The cost function we will use for Gradient Descent is MSE.\n",
    "# 3) Feel free to use any value for eta and epochs.\n",
    "# 4) Calculate the following for the test data: mean squared error, r-squared, explained variance.\n",
    "# 5) Create a scatterplot that shows actual versus predicted values for the T_degC for the test data.\n",
    "# 6) Calculate the following for the training data: mean squared error, r-squared, explained variance   "
   ]
  },
  {
   "cell_type": "code",
   "execution_count": 16,
   "metadata": {},
   "outputs": [],
   "source": [
    "# Set seed for reproducibility \n",
    "SEED = 42\n",
    "\n",
    "# Write a minibatch gradient descent function to be used with different batch sizes \n",
    "def minibatch_gd(n_epochs, eta, minibatch_size, X_b, y): \n",
    "    theta_path_mgd = []\n",
    "    m = len(X_b)\n",
    "    \n",
    "    # random initialization\n",
    "    np.random.seed(SEED)\n",
    "    theta = np.random.randn(X_b.shape[1],1)\n",
    "    \n",
    "    for epoch in range(n_epochs):\n",
    "        shuffled_indices = np.random.permutation(m)\n",
    "        X_b_shuffled = X_b[shuffled_indices]\n",
    "        y_shuffled = y[shuffled_indices]\n",
    "        for i in range(0, m, minibatch_size):\n",
    "            xi = X_b_shuffled[i:i+minibatch_size]\n",
    "            yi = y_shuffled[i:i+minibatch_size]\n",
    "            gradients = 2/minibatch_size * xi.T.dot(xi.dot(theta) - yi)\n",
    "            theta = theta - eta * gradients\n",
    "            theta_path_mgd.append(theta)\n",
    "    return theta "
   ]
  },
  {
   "cell_type": "code",
   "execution_count": 17,
   "metadata": {},
   "outputs": [],
   "source": [
    "# Write a function for evaluation metrics \n",
    "def evaluation(test, pred): \n",
    "    MSE = metrics.mean_squared_error(test, pred)\n",
    "    r2 = metrics.r2_score(test, pred)\n",
    "    explained_var = metrics.explained_variance_score(test, pred)\n",
    "    print(\"MSE:\",MSE)\n",
    "    print(\"R-squared:\",r2)\n",
    "    print(\"Explained Variance:\", explained_var)"
   ]
  },
  {
   "cell_type": "markdown",
   "metadata": {},
   "source": [
    "### Mini-Batch Size = 50 "
   ]
  },
  {
   "cell_type": "code",
   "execution_count": 18,
   "metadata": {},
   "outputs": [
    {
     "data": {
      "text/plain": [
       "array([[10.88760065],\n",
       "       [ 1.62276277],\n",
       "       [-4.58649163],\n",
       "       [ 0.32861419],\n",
       "       [-0.49718393]])"
      ]
     },
     "execution_count": 18,
     "metadata": {},
     "output_type": "execute_result"
    }
   ],
   "source": [
    "theta_mgd_size50 = minibatch_gd(100, 0.1, 50, X_b, y_train)\n",
    "theta_mgd_size50"
   ]
  },
  {
   "cell_type": "code",
   "execution_count": 19,
   "metadata": {},
   "outputs": [
    {
     "name": "stdout",
     "output_type": "stream",
     "text": [
      "MSE: 0.11187353775543911\n",
      "R-squared: 0.9937504751829215\n",
      "Explained Variance: 0.9937942017129615\n"
     ]
    }
   ],
   "source": [
    "# Evaluate test data \n",
    "y_pred_size50 = X_b_new.dot(theta_mgd_size50)\n",
    "evaluation(y_test,y_pred_size50)"
   ]
  },
  {
   "cell_type": "code",
   "execution_count": 20,
   "metadata": {},
   "outputs": [],
   "source": [
    "MSE_pred_50 = metrics.mean_squared_error(y_test,y_pred_size50)\n",
    "r2_pred_50 = metrics.r2_score(y_test,y_pred_size50)\n",
    "explained_var_pred_50 = metrics.explained_variance_score(y_test,y_pred_size50)"
   ]
  },
  {
   "cell_type": "code",
   "execution_count": 21,
   "metadata": {},
   "outputs": [
    {
     "data": {
      "image/png": "[encoded data removed]",
      "text/plain": [
       "<Figure size 1152x576 with 1 Axes>"
      ]
     },
     "metadata": {
      "needs_background": "light"
     },
     "output_type": "display_data"
    }
   ],
   "source": [
    "plt.figure(figsize=(16,8))\n",
    "plt.scatter(x=y_test, y=y_pred_size50, alpha = 0.5)\n",
    "plt.title('Actual vs Predicted Water Temperature (MGD with Batch Size 50)')\n",
    "plt.xlabel('Actual Water Temperature')\n",
    "plt.ylabel('Predicted Water Temperature')\n",
    "plt.axis('square')\n",
    "plt.show()"
   ]
  },
  {
   "cell_type": "code",
   "execution_count": 22,
   "metadata": {},
   "outputs": [
    {
     "name": "stdout",
     "output_type": "stream",
     "text": [
      "MSE: 0.1120983519247126\n",
      "R-squared: 0.9937139872588179\n",
      "Explained Variance: 0.9937610415856313\n"
     ]
    }
   ],
   "source": [
    "# Evaluate training data \n",
    "y_train_size50 = X_b.dot(theta_mgd_size50)\n",
    "evaluation(y_train,y_train_size50)"
   ]
  },
  {
   "cell_type": "code",
   "execution_count": 23,
   "metadata": {},
   "outputs": [],
   "source": [
    "MSE_train_50 = metrics.mean_squared_error(y_train,y_train_size50)\n",
    "r2_train_50 = metrics.r2_score(y_train,y_train_size50)\n",
    "explained_var_train_50 = metrics.explained_variance_score(y_train,y_train_size50)"
   ]
  },
  {
   "cell_type": "markdown",
   "metadata": {},
   "source": [
    "### Mini-Batch Size = 250"
   ]
  },
  {
   "cell_type": "code",
   "execution_count": 24,
   "metadata": {},
   "outputs": [
    {
     "data": {
      "text/plain": [
       "array([[10.91217552],\n",
       "       [ 1.62739543],\n",
       "       [-4.61254699],\n",
       "       [ 0.30693911],\n",
       "       [-0.48392218]])"
      ]
     },
     "execution_count": 24,
     "metadata": {},
     "output_type": "execute_result"
    }
   ],
   "source": [
    "theta_mgd_size250 = minibatch_gd(100, 0.1, 250, X_b, y_train)\n",
    "theta_mgd_size250"
   ]
  },
  {
   "cell_type": "code",
   "execution_count": 25,
   "metadata": {},
   "outputs": [
    {
     "name": "stdout",
     "output_type": "stream",
     "text": [
      "MSE: 0.1107521093131953\n",
      "R-squared: 0.9938131208721613\n",
      "Explained Variance: 0.9938137565209223\n"
     ]
    }
   ],
   "source": [
    "# Evaluate test data \n",
    "y_pred_size250 = X_b_new.dot(theta_mgd_size250)\n",
    "evaluation(y_test,y_pred_size250)"
   ]
  },
  {
   "cell_type": "code",
   "execution_count": 26,
   "metadata": {},
   "outputs": [],
   "source": [
    "MSE_pred_250 = metrics.mean_squared_error(y_test,y_pred_size250)\n",
    "r2_pred_250 = metrics.r2_score(y_test,y_pred_size250)\n",
    "explained_var_pred_250 = metrics.explained_variance_score(y_test,y_pred_size250)"
   ]
  },
  {
   "cell_type": "code",
   "execution_count": 27,
   "metadata": {},
   "outputs": [
    {
     "data": {
      "image/png": "[encoded data removed]",
      "text/plain": [
       "<Figure size 1152x576 with 1 Axes>"
      ]
     },
     "metadata": {
      "needs_background": "light"
     },
     "output_type": "display_data"
    }
   ],
   "source": [
    "plt.figure(figsize=(16,8))\n",
    "plt.scatter(x=y_test, y=y_pred_size250, alpha = 0.5)\n",
    "plt.title('Actual vs Predicted Water Temperature (MGD with Batch Size 250)')\n",
    "plt.xlabel('Actual Water Temperature')\n",
    "plt.ylabel('Predicted Water Temperature')\n",
    "plt.axis('square')\n",
    "plt.show()"
   ]
  },
  {
   "cell_type": "code",
   "execution_count": 28,
   "metadata": {},
   "outputs": [
    {
     "name": "stdout",
     "output_type": "stream",
     "text": [
      "MSE: 0.1108385109615873\n",
      "R-squared: 0.9937846339383639\n",
      "Explained Variance: 0.9937857159577945\n"
     ]
    }
   ],
   "source": [
    "# Evaluate training data \n",
    "y_train_size250 = X_b.dot(theta_mgd_size250)\n",
    "evaluation(y_train,y_train_size250)"
   ]
  },
  {
   "cell_type": "code",
   "execution_count": 29,
   "metadata": {},
   "outputs": [],
   "source": [
    "MSE_train_250 = metrics.mean_squared_error(y_train,y_train_size250)\n",
    "r2_train_250 = metrics.r2_score(y_train,y_train_size250)\n",
    "explained_var_train_250 = metrics.explained_variance_score(y_train,y_train_size250)"
   ]
  },
  {
   "cell_type": "markdown",
   "metadata": {},
   "source": [
    "### Mini-Batch Size = 2000"
   ]
  },
  {
   "cell_type": "code",
   "execution_count": 30,
   "metadata": {},
   "outputs": [
    {
     "data": {
      "text/plain": [
       "array([[10.91538257],\n",
       "       [ 1.62825059],\n",
       "       [-4.63022053],\n",
       "       [ 0.30432527],\n",
       "       [-0.46830936]])"
      ]
     },
     "execution_count": 30,
     "metadata": {},
     "output_type": "execute_result"
    }
   ],
   "source": [
    "theta_mgd_size2000 = minibatch_gd(100, 0.1, 2000, X_b, y_train)\n",
    "theta_mgd_size2000"
   ]
  },
  {
   "cell_type": "code",
   "execution_count": 31,
   "metadata": {},
   "outputs": [
    {
     "name": "stdout",
     "output_type": "stream",
     "text": [
      "MSE: 0.11076235796095604\n",
      "R-squared: 0.9938125483580547\n",
      "Explained Variance: 0.9938125506819184\n"
     ]
    }
   ],
   "source": [
    "# Evaluate test data \n",
    "y_pred_size2000 = X_b_new.dot(theta_mgd_size2000)\n",
    "evaluation(y_test,y_pred_size2000)"
   ]
  },
  {
   "cell_type": "code",
   "execution_count": 32,
   "metadata": {},
   "outputs": [],
   "source": [
    "MSE_pred_2000 = metrics.mean_squared_error(y_test,y_pred_size2000)\n",
    "r2_pred_2000 = metrics.r2_score(y_test,y_pred_size2000)\n",
    "explained_var_pred_2000 = metrics.explained_variance_score(y_test,y_pred_size2000)"
   ]
  },
  {
   "cell_type": "code",
   "execution_count": 33,
   "metadata": {},
   "outputs": [
    {
     "data": {
      "image/png": "[encoded data removed]",
      "text/plain": [
       "<Figure size 1152x576 with 1 Axes>"
      ]
     },
     "metadata": {
      "needs_background": "light"
     },
     "output_type": "display_data"
    }
   ],
   "source": [
    "plt.figure(figsize=(16,8))\n",
    "plt.scatter(x=y_test, y=y_pred_size2000, alpha = 0.5)\n",
    "plt.title('Actual vs Predicted Water Temperature (MGD with Batch Size 2000)')\n",
    "plt.xlabel('Actual Water Temperature')\n",
    "plt.ylabel('Predicted Water Temperature')\n",
    "plt.axis('square')\n",
    "plt.show()"
   ]
  },
  {
   "cell_type": "code",
   "execution_count": 34,
   "metadata": {},
   "outputs": [
    {
     "name": "stdout",
     "output_type": "stream",
     "text": [
      "MSE: 0.11072891583291293\n",
      "R-squared: 0.9937907795806806\n",
      "Explained Variance: 0.9937908584080559\n"
     ]
    }
   ],
   "source": [
    "# Evaluate training data \n",
    "y_train_size2000 = X_b.dot(theta_mgd_size2000)\n",
    "evaluation(y_train,y_train_size2000)"
   ]
  },
  {
   "cell_type": "code",
   "execution_count": 35,
   "metadata": {},
   "outputs": [],
   "source": [
    "MSE_train_2000 = metrics.mean_squared_error(y_train,y_train_size2000)\n",
    "r2_train_2000 = metrics.r2_score(y_train,y_train_size2000)\n",
    "explained_var_train_2000 = metrics.explained_variance_score(y_train,y_train_size2000)"
   ]
  },
  {
   "cell_type": "code",
   "execution_count": 36,
   "metadata": {},
   "outputs": [
    {
     "data": {
      "text/html": [
       "<div>\n",
       "<style scoped>\n",
       "    .dataframe tbody tr th:only-of-type {\n",
       "        vertical-align: middle;\n",
       "    }\n",
       "\n",
       "    .dataframe tbody tr th {\n",
       "        vertical-align: top;\n",
       "    }\n",
       "\n",
       "    .dataframe thead th {\n",
       "        text-align: right;\n",
       "    }\n",
       "</style>\n",
       "<table border=\"1\" class=\"dataframe\">\n",
       "  <thead>\n",
       "    <tr style=\"text-align: right;\">\n",
       "      <th></th>\n",
       "      <th>Mini-Batch Size</th>\n",
       "      <th>Test MSE</th>\n",
       "      <th>Train MSE</th>\n",
       "      <th>Test R-Squared</th>\n",
       "      <th>Train R-Squared</th>\n",
       "      <th>Test Explained Variance</th>\n",
       "      <th>Train Explained Variance</th>\n",
       "    </tr>\n",
       "  </thead>\n",
       "  <tbody>\n",
       "    <tr>\n",
       "      <td>1</td>\n",
       "      <td>250</td>\n",
       "      <td>0.110752</td>\n",
       "      <td>0.110839</td>\n",
       "      <td>0.993813</td>\n",
       "      <td>0.993785</td>\n",
       "      <td>0.993814</td>\n",
       "      <td>0.993786</td>\n",
       "    </tr>\n",
       "    <tr>\n",
       "      <td>2</td>\n",
       "      <td>2000</td>\n",
       "      <td>0.110762</td>\n",
       "      <td>0.110729</td>\n",
       "      <td>0.993813</td>\n",
       "      <td>0.993791</td>\n",
       "      <td>0.993813</td>\n",
       "      <td>0.993791</td>\n",
       "    </tr>\n",
       "    <tr>\n",
       "      <td>0</td>\n",
       "      <td>50</td>\n",
       "      <td>0.111874</td>\n",
       "      <td>0.112098</td>\n",
       "      <td>0.993750</td>\n",
       "      <td>0.993714</td>\n",
       "      <td>0.993794</td>\n",
       "      <td>0.993761</td>\n",
       "    </tr>\n",
       "  </tbody>\n",
       "</table>\n",
       "</div>"
      ],
      "text/plain": [
       "   Mini-Batch Size  Test MSE  Train MSE  Test R-Squared  Train R-Squared  \\\n",
       "1              250  0.110752   0.110839        0.993813         0.993785   \n",
       "2             2000  0.110762   0.110729        0.993813         0.993791   \n",
       "0               50  0.111874   0.112098        0.993750         0.993714   \n",
       "\n",
       "   Test Explained Variance  Train Explained Variance  \n",
       "1                 0.993814                  0.993786  \n",
       "2                 0.993813                  0.993791  \n",
       "0                 0.993794                  0.993761  "
      ]
     },
     "execution_count": 36,
     "metadata": {},
     "output_type": "execute_result"
    }
   ],
   "source": [
    "# Table with all the results for easy comparison\n",
    "compare = pd.DataFrame({\n",
    "    'Mini-Batch Size': [50,250,2000],\n",
    "    \n",
    "    'Test MSE': [MSE_pred_50, MSE_pred_250, MSE_pred_2000],\n",
    "    \n",
    "    'Train MSE': [MSE_train_50, MSE_train_250, MSE_train_2000],\n",
    "    \n",
    "    'Test R-Squared': [r2_pred_50, r2_pred_250, r2_pred_2000],\n",
    "    \n",
    "    'Train R-Squared': [r2_train_50, r2_train_250, r2_train_2000],\n",
    "    \n",
    "    'Test Explained Variance': [explained_var_pred_50, explained_var_pred_250, explained_var_pred_2000],\n",
    "    \n",
    "    'Train Explained Variance': [explained_var_train_50, explained_var_train_250, explained_var_train_2000]\n",
    "    })\n",
    "\n",
    "compare.sort_values(by='Test R-Squared', ascending=False)"
   ]
  },
  {
   "cell_type": "markdown",
   "metadata": {},
   "source": [
    "## Part E"
   ]
  },
  {
   "cell_type": "markdown",
   "metadata": {},
   "source": [
    "1) Describe how parameter estimation in Gradient Descent differs from using the normal equation."
   ]
  },
  {
   "cell_type": "markdown",
   "metadata": {},
   "source": [
    "In normal equation, to find the value of theta that minimizes the cost function, the normal euqation uses a closed-form solution which gives the computation result directly. In Gradient Descent, parameters are tweaked iteratively to minimize a cost function. It measures the local gradient of the error function with respect to theta and goes towards the direciton of decreasing gradient until it converges to a minimum.  "
   ]
  },
  {
   "cell_type": "markdown",
   "metadata": {},
   "source": [
    "2) We used Mini-Batch Gradient descent here, but there are a variety of options for Gradient Descent. How is Mini-Batch Gradient Descent different from Stochastic Gradient Descent?"
   ]
  },
  {
   "cell_type": "markdown",
   "metadata": {},
   "source": [
    "While Stochastic Gradient Descent picks a random instance in the training data at every step and computes the gradients based on that single instance, Mini-Batch Gradient Descent computes the gradients on small sets of instances (known as mini-batches) at each step. Mini-Batch Gradient Descents' progress in parameter space is less erratic than SGD, especially with larger batch sizes. Thus it will end up a bit closer to the minimum than Stochastic Gradient Descent. However, in the case where the cost function has local minima, it will be harder for Mini-Batch Gradient Descent to escape. "
   ]
  },
  {
   "cell_type": "markdown",
   "metadata": {},
   "source": [
    "3) Identify your best-performing version of Gradient Descent and compare the error metrics for test data vs training data. Does this version of gradient descent show signs of overfitting? Explain."
   ]
  },
  {
   "cell_type": "code",
   "execution_count": 37,
   "metadata": {},
   "outputs": [
    {
     "data": {
      "text/html": [
       "<div>\n",
       "<style scoped>\n",
       "    .dataframe tbody tr th:only-of-type {\n",
       "        vertical-align: middle;\n",
       "    }\n",
       "\n",
       "    .dataframe tbody tr th {\n",
       "        vertical-align: top;\n",
       "    }\n",
       "\n",
       "    .dataframe thead th {\n",
       "        text-align: right;\n",
       "    }\n",
       "</style>\n",
       "<table border=\"1\" class=\"dataframe\">\n",
       "  <thead>\n",
       "    <tr style=\"text-align: right;\">\n",
       "      <th></th>\n",
       "      <th>Mini-Batch Size</th>\n",
       "      <th>Test MSE</th>\n",
       "      <th>Train MSE</th>\n",
       "      <th>Test R-Squared</th>\n",
       "      <th>Train R-Squared</th>\n",
       "      <th>Test Explained Variance</th>\n",
       "      <th>Train Explained Variance</th>\n",
       "    </tr>\n",
       "  </thead>\n",
       "  <tbody>\n",
       "    <tr>\n",
       "      <td>1</td>\n",
       "      <td>250</td>\n",
       "      <td>0.110752</td>\n",
       "      <td>0.110839</td>\n",
       "      <td>0.993813</td>\n",
       "      <td>0.993785</td>\n",
       "      <td>0.993814</td>\n",
       "      <td>0.993786</td>\n",
       "    </tr>\n",
       "    <tr>\n",
       "      <td>2</td>\n",
       "      <td>2000</td>\n",
       "      <td>0.110762</td>\n",
       "      <td>0.110729</td>\n",
       "      <td>0.993813</td>\n",
       "      <td>0.993791</td>\n",
       "      <td>0.993813</td>\n",
       "      <td>0.993791</td>\n",
       "    </tr>\n",
       "    <tr>\n",
       "      <td>0</td>\n",
       "      <td>50</td>\n",
       "      <td>0.111874</td>\n",
       "      <td>0.112098</td>\n",
       "      <td>0.993750</td>\n",
       "      <td>0.993714</td>\n",
       "      <td>0.993794</td>\n",
       "      <td>0.993761</td>\n",
       "    </tr>\n",
       "  </tbody>\n",
       "</table>\n",
       "</div>"
      ],
      "text/plain": [
       "   Mini-Batch Size  Test MSE  Train MSE  Test R-Squared  Train R-Squared  \\\n",
       "1              250  0.110752   0.110839        0.993813         0.993785   \n",
       "2             2000  0.110762   0.110729        0.993813         0.993791   \n",
       "0               50  0.111874   0.112098        0.993750         0.993714   \n",
       "\n",
       "   Test Explained Variance  Train Explained Variance  \n",
       "1                 0.993814                  0.993786  \n",
       "2                 0.993813                  0.993791  \n",
       "0                 0.993794                  0.993761  "
      ]
     },
     "execution_count": 37,
     "metadata": {},
     "output_type": "execute_result"
    }
   ],
   "source": [
    "compare = pd.DataFrame({\n",
    "    'Mini-Batch Size': [50,250,2000],\n",
    "    \n",
    "    'Test MSE': [MSE_pred_50, MSE_pred_250, MSE_pred_2000],\n",
    "    \n",
    "    'Train MSE': [MSE_train_50, MSE_train_250, MSE_train_2000],\n",
    "    \n",
    "    'Test R-Squared': [r2_pred_50, r2_pred_250, r2_pred_2000],\n",
    "    \n",
    "    'Train R-Squared': [r2_train_50, r2_train_250, r2_train_2000],\n",
    "    \n",
    "    'Test Explained Variance': [explained_var_pred_50, explained_var_pred_250, explained_var_pred_2000],\n",
    "    \n",
    "    'Train Explained Variance': [explained_var_train_50, explained_var_train_250, explained_var_train_2000]\n",
    "    })\n",
    "\n",
    "compare.sort_values(by='Test R-Squared', ascending=False)"
   ]
  },
  {
   "cell_type": "markdown",
   "metadata": {},
   "source": [
    "The best performing version is mini-batch gradient descent with batch size of 250, which has the lowest test MSE, highest test R-squared and highest test explained variance. The MSE, r-squared and explained variance between train data and test data are very close to each other, with differences less than 0.0001. Since the generalization error is not greater than the training error, there's no issue of overfitting.  "
   ]
  },
  {
   "cell_type": "markdown",
   "metadata": {},
   "source": [
    "4) Explain what the learning rate is for. Even though we did not, why might it be helpful to change the learning rate over time?"
   ]
  },
  {
   "cell_type": "markdown",
   "metadata": {},
   "source": [
    "The learning rate is a hyperparameter used to control the size of the steps in Gradient Descent. If the learning rate is too low, it will take a long time for the algorithm to converge; if the learning rate is too high, the algorithm might diverge and fail to find a good solution. It would be helpful to decrease the learning rate over time, having the steps start out large to allow for fast progress and decreasing the size of the steps so that the algorithm can settle at the global minimum.  "
   ]
  },
  {
   "cell_type": "markdown",
   "metadata": {},
   "source": [
    "5) Why would a data scientist want to use early stopping in gradient descent? "
   ]
  },
  {
   "cell_type": "markdown",
   "metadata": {},
   "source": [
    "Early stopping in gradient descent takes place when the validation error has reached a minimum. If we don't stop the algorithm, we will see that while the training error continue to decrease, the validation error starts to increase again. This suggests the model has started to overfit the training data. Thus, to prevent overfitting, we use early stopping to stop training once the validation error reaches the minumum. "
   ]
  }
 ],
 "metadata": {
  "kernelspec": {
   "display_name": "Python 3",
   "language": "python",
   "name": "python3"
  },
  "language_info": {
   "codemirror_mode": {
    "name": "ipython",
    "version": 3
   },
   "file_extension": ".py",
   "mimetype": "text/x-python",
   "name": "python",
   "nbconvert_exporter": "python",
   "pygments_lexer": "ipython3",
   "version": "3.7.3"
  }
 },
 "nbformat": 4,
 "nbformat_minor": 2
}
